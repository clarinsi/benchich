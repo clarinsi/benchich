{
 "cells": [
  {
   "cell_type": "code",
   "execution_count": null,
   "metadata": {},
   "outputs": [],
   "source": [
    "%pip install openai"
   ]
  },
  {
   "cell_type": "code",
   "execution_count": 1,
   "metadata": {},
   "outputs": [],
   "source": [
    "import pandas as pd\n",
    "import json\n",
    "import numpy as np\n",
    "from time import sleep\n",
    "import time\n",
    "from openai import OpenAI\n",
    "from tqdm import tqdm\n",
    "client = OpenAI(api_key=open('API_key').read())"
   ]
  },
  {
   "cell_type": "code",
   "execution_count": 2,
   "metadata": {},
   "outputs": [],
   "source": [
    "# The code to open the test dataset - copied from the directory `systems/web`\n",
    "import json\n",
    "\n",
    "import re\n",
    "mention_re=re.compile(r'@\\S+')\n",
    "hashtag_re=re.compile(r'#\\S+')\n",
    "url_re=re.compile(r'http\\S+')\n",
    "space_re=re.compile(r'\\s+')\n",
    "\n",
    "def clean_tweets(text):\n",
    "    return space_re.sub(' ',url_re.sub(' ',hashtag_re.sub(' ',mention_re.sub(' ',text))).replace(' RT ',' ').lower()).strip()\n",
    "\n",
    "\n",
    "def load_twitter_dataset(categories=['bs','hr','sr','me']):\n",
    "    twitter_dataset=json.load(open('../../data/Twitter-HBS.json'))\n",
    "    X={'train':[],'dev':[],'test':[]}\n",
    "    y={'train':[],'dev':[],'test':[]}\n",
    "    for instance in twitter_dataset:\n",
    "        lang=instance['language']\n",
    "        split=instance['split']\n",
    "        if lang in categories:\n",
    "            y[split].append(lang)\n",
    "            X[split].append(clean_tweets(' '.join(instance['tweets'])))\n",
    "    return X,y\n",
    "\n",
    "def load_setimes_dataset():\n",
    "    setimes_dataset=json.load(open('../../data/SETimes.HBS.json'))\n",
    "    X={'train':[],'dev':[],'test':[]}\n",
    "    y={'train':[],'dev':[],'test':[]}\n",
    "    for instance in setimes_dataset:\n",
    "        lang=instance['language']\n",
    "        split=instance['split']\n",
    "        y[split].append(lang)\n",
    "        X[split].append(instance['text'].lower())\n",
    "    return X,y"
   ]
  },
  {
   "cell_type": "code",
   "execution_count": 3,
   "metadata": {},
   "outputs": [
    {
     "name": "stdout",
     "output_type": "stream",
     "text": [
      "(112, 2) (123, 2) (921, 2)\n"
     ]
    }
   ],
   "source": [
    "twitter_X,twitter_y=load_twitter_dataset()\n",
    "twitter3_X,twitter3_y=load_twitter_dataset(['bs','hr','sr'])\n",
    "setimes_X,setimes_y=load_setimes_dataset()\n",
    "\n",
    "twitter3_test = pd.DataFrame({\"labels\": twitter3_y[\"test\"], \"text\": twitter3_X[\"test\"]})\n",
    "\n",
    "twitter_test = pd.DataFrame({\"labels\": twitter_y[\"test\"], \"text\": twitter_X[\"test\"]})\n",
    "\n",
    "setimes_test = pd.DataFrame({\"labels\": setimes_y[\"test\"], \"text\": setimes_X[\"test\"]})\n",
    "\n",
    "print(twitter3_test.shape, twitter_test.shape, setimes_test.shape)"
   ]
  },
  {
   "cell_type": "code",
   "execution_count": 4,
   "metadata": {},
   "outputs": [
    {
     "data": {
      "text/plain": [
       "labels\n",
       "sr    79\n",
       "hr    18\n",
       "bs    15\n",
       "me    11\n",
       "Name: count, dtype: int64"
      ]
     },
     "metadata": {},
     "output_type": "display_data"
    },
    {
     "data": {
      "text/html": [
       "<div>\n",
       "<style scoped>\n",
       "    .dataframe tbody tr th:only-of-type {\n",
       "        vertical-align: middle;\n",
       "    }\n",
       "\n",
       "    .dataframe tbody tr th {\n",
       "        vertical-align: top;\n",
       "    }\n",
       "\n",
       "    .dataframe thead th {\n",
       "        text-align: right;\n",
       "    }\n",
       "</style>\n",
       "<table border=\"1\" class=\"dataframe\">\n",
       "  <thead>\n",
       "    <tr style=\"text-align: right;\">\n",
       "      <th></th>\n",
       "      <th>labels</th>\n",
       "      <th>text</th>\n",
       "    </tr>\n",
       "  </thead>\n",
       "  <tbody>\n",
       "    <tr>\n",
       "      <th>0</th>\n",
       "      <td>sr</td>\n",
       "      <td>oj srbijo medju sljivama :d uvek je premnogo l...</td>\n",
       "    </tr>\n",
       "    <tr>\n",
       "      <th>1</th>\n",
       "      <td>sr</td>\n",
       "      <td>kiseli kupus, pozz ;3 ja uvek zaboravim da se ...</td>\n",
       "    </tr>\n",
       "    <tr>\n",
       "      <th>2</th>\n",
       "      <td>sr</td>\n",
       "      <td>jos 263 dana do pocetka leta. da borka pavicev...</td>\n",
       "    </tr>\n",
       "  </tbody>\n",
       "</table>\n",
       "</div>"
      ],
      "text/plain": [
       "  labels                                               text\n",
       "0     sr  oj srbijo medju sljivama :d uvek je premnogo l...\n",
       "1     sr  kiseli kupus, pozz ;3 ja uvek zaboravim da se ...\n",
       "2     sr  jos 263 dana do pocetka leta. da borka pavicev..."
      ]
     },
     "execution_count": 4,
     "metadata": {},
     "output_type": "execute_result"
    }
   ],
   "source": [
    "display(twitter_test.labels.value_counts())\n",
    "\n",
    "twitter_test.head(3)"
   ]
  },
  {
   "cell_type": "code",
   "execution_count": 5,
   "metadata": {},
   "outputs": [
    {
     "data": {
      "text/plain": [
       "labels\n",
       "sr    79\n",
       "hr    18\n",
       "bs    15\n",
       "Name: count, dtype: int64"
      ]
     },
     "metadata": {},
     "output_type": "display_data"
    },
    {
     "data": {
      "text/html": [
       "<div>\n",
       "<style scoped>\n",
       "    .dataframe tbody tr th:only-of-type {\n",
       "        vertical-align: middle;\n",
       "    }\n",
       "\n",
       "    .dataframe tbody tr th {\n",
       "        vertical-align: top;\n",
       "    }\n",
       "\n",
       "    .dataframe thead th {\n",
       "        text-align: right;\n",
       "    }\n",
       "</style>\n",
       "<table border=\"1\" class=\"dataframe\">\n",
       "  <thead>\n",
       "    <tr style=\"text-align: right;\">\n",
       "      <th></th>\n",
       "      <th>labels</th>\n",
       "      <th>text</th>\n",
       "    </tr>\n",
       "  </thead>\n",
       "  <tbody>\n",
       "    <tr>\n",
       "      <th>0</th>\n",
       "      <td>sr</td>\n",
       "      <td>oj srbijo medju sljivama :d uvek je premnogo l...</td>\n",
       "    </tr>\n",
       "    <tr>\n",
       "      <th>1</th>\n",
       "      <td>sr</td>\n",
       "      <td>kiseli kupus, pozz ;3 ja uvek zaboravim da se ...</td>\n",
       "    </tr>\n",
       "    <tr>\n",
       "      <th>2</th>\n",
       "      <td>sr</td>\n",
       "      <td>jos 263 dana do pocetka leta. da borka pavicev...</td>\n",
       "    </tr>\n",
       "  </tbody>\n",
       "</table>\n",
       "</div>"
      ],
      "text/plain": [
       "  labels                                               text\n",
       "0     sr  oj srbijo medju sljivama :d uvek je premnogo l...\n",
       "1     sr  kiseli kupus, pozz ;3 ja uvek zaboravim da se ...\n",
       "2     sr  jos 263 dana do pocetka leta. da borka pavicev..."
      ]
     },
     "execution_count": 5,
     "metadata": {},
     "output_type": "execute_result"
    }
   ],
   "source": [
    "display(twitter3_test.labels.value_counts())\n",
    "\n",
    "twitter3_test.head(3)"
   ]
  },
  {
   "cell_type": "code",
   "execution_count": 6,
   "metadata": {},
   "outputs": [
    {
     "data": {
      "text/plain": [
       "labels\n",
       "hr    313\n",
       "bs    312\n",
       "sr    296\n",
       "Name: count, dtype: int64"
      ]
     },
     "metadata": {},
     "output_type": "display_data"
    },
    {
     "data": {
      "text/html": [
       "<div>\n",
       "<style scoped>\n",
       "    .dataframe tbody tr th:only-of-type {\n",
       "        vertical-align: middle;\n",
       "    }\n",
       "\n",
       "    .dataframe tbody tr th {\n",
       "        vertical-align: top;\n",
       "    }\n",
       "\n",
       "    .dataframe thead th {\n",
       "        text-align: right;\n",
       "    }\n",
       "</style>\n",
       "<table border=\"1\" class=\"dataframe\">\n",
       "  <thead>\n",
       "    <tr style=\"text-align: right;\">\n",
       "      <th></th>\n",
       "      <th>labels</th>\n",
       "      <th>text</th>\n",
       "    </tr>\n",
       "  </thead>\n",
       "  <tbody>\n",
       "    <tr>\n",
       "      <th>0</th>\n",
       "      <td>sr</td>\n",
       "      <td>diplomatski dnevnik: makedonija i nemačka razg...</td>\n",
       "    </tr>\n",
       "    <tr>\n",
       "      <th>1</th>\n",
       "      <td>sr</td>\n",
       "      <td>skulpture su postavljene u specijalno projekto...</td>\n",
       "    </tr>\n",
       "    <tr>\n",
       "      <th>2</th>\n",
       "      <td>sr</td>\n",
       "      <td>kosovski zvaničnici aktivno raspravljaju o reš...</td>\n",
       "    </tr>\n",
       "  </tbody>\n",
       "</table>\n",
       "</div>"
      ],
      "text/plain": [
       "  labels                                               text\n",
       "0     sr  diplomatski dnevnik: makedonija i nemačka razg...\n",
       "1     sr  skulpture su postavljene u specijalno projekto...\n",
       "2     sr  kosovski zvaničnici aktivno raspravljaju o reš..."
      ]
     },
     "execution_count": 6,
     "metadata": {},
     "output_type": "execute_result"
    }
   ],
   "source": [
    "display(setimes_test.labels.value_counts())\n",
    "\n",
    "setimes_test.head(3)"
   ]
  },
  {
   "cell_type": "code",
   "execution_count": 7,
   "metadata": {},
   "outputs": [],
   "source": [
    "def predict_gpt(df_test_name, gpt_model):\n",
    "\t\"\"\"\n",
    "\tArgs:\n",
    "\t- df_test_name: Can be either setimes, twitter, or twitter3.\n",
    "\t\"\"\"\n",
    "\tLABELS_3 = {\"Bosnian\": 1, \"Croatian\": 2, \"Serbian\": 3, }\n",
    "\tLABELS_4 = {\"Bosnian\": 1, \"Croatian\": 2, \"Serbian\": 3, \"Montenegrin\": 4}\n",
    "\n",
    "\tdf_dict = {\n",
    "\t\t\"setimes\": {\n",
    "\t\t\t\"dataset\": setimes_test,\n",
    "\t\t\t\"labels\": LABELS_3,\n",
    "\t\t\t\"prompt\": \"\"\"\n",
    "\t\t\t\t### Task\n",
    "\t\t\t\t\tYou will be provided with a news article text. Your task is to determine which South Slavic language is used in the provided text: Bosnian, Croatian, or Serbian. Your choice should be based on the linguistic differences (e.g., the use of ijekavian vs. ekavian variants) and vocabulary choices (e.g., hljeb vs. kruh). Do not base your decision on specific local or national references - the decision should be based solely on linguistic differences and vocabulary choices. Always provide a language label, even if you are not sure.\n",
    "\t\t\t\t\"\"\"\n",
    "\t\t\t},\n",
    "\t\t\"twitter\": {\n",
    "\t\t\t\"dataset\": twitter_test,\n",
    "\t\t\t\"labels\": LABELS_4,\n",
    "\t\t\t\"prompt\": \"\"\"\n",
    "\t\t\t\t### Task\n",
    "\t\t\t\t\tYou will be provided with a collection of social media texts written by the same author. Your task is to determine which South Slavic language is used in the provided texts: Bosnian, Croatian, Montenegrin or Serbian. Your choice should be based on the linguistic differences (e.g., the use of ijekavian vs. ekavian variants), vocabulary choices (e.g., hljeb vs. kruh) and any specific local or national references. Always provide a language label, even if you are not sure.\n",
    "\t\t\t\t\"\"\"\n",
    "\t\t\t},\n",
    "\t\t\"twitter3\": {\n",
    "\t\t\t\"dataset\": twitter3_test,\n",
    "\t\t\t\"labels\": LABELS_3,\n",
    "\t\t\t\"prompt\": \"\"\"\n",
    "\t\t\t\t### Task\n",
    "\t\t\t\t\tYou will be provided with a collection of social media texts written by the same author. Your task is to determine which South Slavic language is used in the provided texts: Bosnian, Croatian, or Serbian. Your choice should be based on the linguistic differences (e.g., the use of ijekavian vs. ekavian variants), vocabulary choices (e.g., hljeb vs. kruh) and any specific local or national references. Always provide a language label, even if you are not sure.\n",
    "\t\t\t\t\"\"\"\n",
    "\t\t\t}\n",
    "\t}\n",
    "\n",
    "\tprint(df_test_name)\n",
    "\tdf = df_dict[df_test_name][\"dataset\"]\n",
    "\n",
    "\tlabels_dict = df_dict[df_test_name][\"labels\"]\n",
    "\tprint(labels_dict)\n",
    "\n",
    "\tfinal_labels_dict = {1: \"bs\", 2: \"hr\", 3: \"sr\", 4: \"me\"}\n",
    "\n",
    "\tprompt = df_dict[df_test_name][\"prompt\"]\n",
    "\tprint(prompt)\n",
    "\t\n",
    "\tresponses = []\n",
    "\t\n",
    "\ttexts = df[\"text\"].to_list()\n",
    "\n",
    "\tstart_time = time.time()\n",
    "\n",
    "\tfor text in tqdm(texts):\n",
    "\t\ttry:\n",
    "\t\t\tcompletion = client.chat.completions.create(model=gpt_model,\n",
    "\t\t\tresponse_format= {\"type\": \"json_object\"},\n",
    "\t\t\tmessages= [\n",
    "\t\t\t{\n",
    "\t\t\t\t\"role\": \"user\",\n",
    "\t\t\t\t\"content\": prompt + f\"\"\"\n",
    "\n",
    "\t\t\t\t### Output format\n",
    "\t\t\t\t\tReturn a valid JSON dictionary with the following key: 'lang' and a value should be an integer which represents one of the labels according to the following dictionary: {labels_dict}.\n",
    "\n",
    "\t\t\t\t\t\n",
    "\t\t\t\t\tText: '{text}'\n",
    "\t\t\t\"\"\"\n",
    "\t\t\t\t}\n",
    "\t\t\t],\n",
    "\t\t\ttemperature = 0)\n",
    "\n",
    "\t\t\tresponse=completion.choices[0].message.content\n",
    "\n",
    "\t\t\tresponse = response.replace(\"\\n\", \"\")\n",
    "\t\t\tresponse = response.replace(\"\\t\", \"\")\n",
    "\n",
    "\t\t\t# Convert the string into a dictionary\n",
    "\t\t\tresponse = json.loads(response)\n",
    "\n",
    "\t\t\t# Get out a label\n",
    "\t\t\ttry:\n",
    "\t\t\t\tpredicted = final_labels_dict[response[\"lang\"]]\n",
    "\t\t\t\tresponses.append(predicted)\n",
    "\t\t\t# add a possibility of something going wrong\n",
    "\t\t\texcept:\n",
    "\t\t\t\tpredicted = \"error\"\n",
    "\t\t\t\tprint(\"error with extracting a label - issue with parsing the prediction\")\n",
    "\t\t\t\tresponses.append(predicted)\n",
    "\t\texcept:\n",
    "\t\t\tpredicted = \"error\"\n",
    "\t\t\tprint(\"error with extracting a label - issue with the text\")\n",
    "\t\t\tresponses.append(predicted)\n",
    "\n",
    "\tend_time = time.time()\n",
    "\telapsed_time_min = end_time-start_time\n",
    "\n",
    "\tprint(f\"Prediction finished. It took {elapsed_time_min/60} min for {df.shape[0]} instances - {elapsed_time_min/df.shape[0]} s per instance.\")\n",
    "\n",
    "\tcur_results = {\n",
    "\t\t\t'train':'NA (zero-shot)',\n",
    "\t\t\t'test': df_test_name,\n",
    "\t\t\t'predictions': responses }\n",
    "\n",
    "\treturn cur_results"
   ]
  },
  {
   "cell_type": "code",
   "execution_count": 8,
   "metadata": {},
   "outputs": [
    {
     "name": "stdout",
     "output_type": "stream",
     "text": [
      "gpt-4o-2024-08-06\n",
      "twitter\n",
      "{'Bosnian': 1, 'Croatian': 2, 'Serbian': 3, 'Montenegrin': 4}\n",
      "\n",
      "\t\t\t\t### Task\n",
      "\t\t\t\t\tYou will be provided with a collection of social media texts written by the same author. Your task is to determine which South Slavic language is used in the provided texts: Bosnian, Croatian, Montenegrin or Serbian. Your choice should be based on the linguistic differences (e.g., the use of ijekavian vs. ekavian variants), vocabulary choices (e.g., hljeb vs. kruh) and any specific local or national references. Always provide a language label, even if you are not sure.\n",
      "\t\t\t\t\n"
     ]
    },
    {
     "name": "stderr",
     "output_type": "stream",
     "text": [
      "100%|██████████| 123/123 [02:33<00:00,  1.25s/it]\n"
     ]
    },
    {
     "name": "stdout",
     "output_type": "stream",
     "text": [
      "Prediction finished. It took 2.5597654700279238 min for 123 instances - 1.2486660829404506 s per instance.\n",
      "twitter3\n",
      "{'Bosnian': 1, 'Croatian': 2, 'Serbian': 3}\n",
      "\n",
      "\t\t\t\t### Task\n",
      "\t\t\t\t\tYou will be provided with a collection of social media texts written by the same author. Your task is to determine which South Slavic language is used in the provided texts: Bosnian, Croatian, or Serbian. Your choice should be based on the linguistic differences (e.g., the use of ijekavian vs. ekavian variants), vocabulary choices (e.g., hljeb vs. kruh) and any specific local or national references. Always provide a language label, even if you are not sure.\n",
      "\t\t\t\t\n"
     ]
    },
    {
     "name": "stderr",
     "output_type": "stream",
     "text": [
      "100%|██████████| 112/112 [02:30<00:00,  1.34s/it]\n"
     ]
    },
    {
     "name": "stdout",
     "output_type": "stream",
     "text": [
      "Prediction finished. It took 2.501479657491048 min for 112 instances - 1.340078387941633 s per instance.\n",
      "setimes\n",
      "{'Bosnian': 1, 'Croatian': 2, 'Serbian': 3}\n",
      "\n",
      "\t\t\t\t### Task\n",
      "\t\t\t\t\tYou will be provided with a news article text. Your task is to determine which South Slavic language is used in the provided text: Bosnian, Croatian, or Serbian. Your choice should be based on the linguistic differences (e.g., the use of ijekavian vs. ekavian variants) and vocabulary choices (e.g., hljeb vs. kruh). Do not base your decision on specific local or national references - the decision should be based solely on linguistic differences and vocabulary choices. Always provide a language label, even if you are not sure.\n",
      "\t\t\t\t\n"
     ]
    },
    {
     "name": "stderr",
     "output_type": "stream",
     "text": [
      "100%|██████████| 921/921 [10:38<00:00,  1.44it/s]\n"
     ]
    },
    {
     "name": "stdout",
     "output_type": "stream",
     "text": [
      "Prediction finished. It took 10.636692833900451 min for 921 instances - 0.69294415856029 s per instance.\n",
      "gpt-4o-mini-2024-07-18\n",
      "twitter\n",
      "{'Bosnian': 1, 'Croatian': 2, 'Serbian': 3, 'Montenegrin': 4}\n",
      "\n",
      "\t\t\t\t### Task\n",
      "\t\t\t\t\tYou will be provided with a collection of social media texts written by the same author. Your task is to determine which South Slavic language is used in the provided texts: Bosnian, Croatian, Montenegrin or Serbian. Your choice should be based on the linguistic differences (e.g., the use of ijekavian vs. ekavian variants), vocabulary choices (e.g., hljeb vs. kruh) and any specific local or national references. Always provide a language label, even if you are not sure.\n",
      "\t\t\t\t\n"
     ]
    },
    {
     "name": "stderr",
     "output_type": "stream",
     "text": [
      "100%|██████████| 123/123 [02:57<00:00,  1.44s/it]\n"
     ]
    },
    {
     "name": "stdout",
     "output_type": "stream",
     "text": [
      "Prediction finished. It took 2.9570902824401855 min for 123 instances - 1.4424830646049687 s per instance.\n",
      "twitter3\n",
      "{'Bosnian': 1, 'Croatian': 2, 'Serbian': 3}\n",
      "\n",
      "\t\t\t\t### Task\n",
      "\t\t\t\t\tYou will be provided with a collection of social media texts written by the same author. Your task is to determine which South Slavic language is used in the provided texts: Bosnian, Croatian, or Serbian. Your choice should be based on the linguistic differences (e.g., the use of ijekavian vs. ekavian variants), vocabulary choices (e.g., hljeb vs. kruh) and any specific local or national references. Always provide a language label, even if you are not sure.\n",
      "\t\t\t\t\n"
     ]
    },
    {
     "name": "stderr",
     "output_type": "stream",
     "text": [
      "100%|██████████| 112/112 [02:57<00:00,  1.58s/it]\n"
     ]
    },
    {
     "name": "stdout",
     "output_type": "stream",
     "text": [
      "Prediction finished. It took 2.9507838169733684 min for 112 instances - 1.5807770448071616 s per instance.\n",
      "setimes\n",
      "{'Bosnian': 1, 'Croatian': 2, 'Serbian': 3}\n",
      "\n",
      "\t\t\t\t### Task\n",
      "\t\t\t\t\tYou will be provided with a news article text. Your task is to determine which South Slavic language is used in the provided text: Bosnian, Croatian, or Serbian. Your choice should be based on the linguistic differences (e.g., the use of ijekavian vs. ekavian variants) and vocabulary choices (e.g., hljeb vs. kruh). Do not base your decision on specific local or national references - the decision should be based solely on linguistic differences and vocabulary choices. Always provide a language label, even if you are not sure.\n",
      "\t\t\t\t\n"
     ]
    },
    {
     "name": "stderr",
     "output_type": "stream",
     "text": [
      "100%|██████████| 921/921 [11:50<00:00,  1.30it/s]"
     ]
    },
    {
     "name": "stdout",
     "output_type": "stream",
     "text": [
      "Prediction finished. It took 11.848440170288086 min for 921 instances - 0.7718853531132304 s per instance.\n"
     ]
    },
    {
     "name": "stderr",
     "output_type": "stream",
     "text": [
      "\n"
     ]
    }
   ],
   "source": [
    "for model in [\"gpt-4o-2024-08-06\", \"gpt-4o-mini-2024-07-18\"]:\n",
    "\tprint(model)\n",
    "\n",
    "\tfinal_results = {\n",
    "\t\t\"system\": model,\n",
    "\t\t\"predictions\": []\n",
    "\t}\n",
    "\n",
    "\tfor test in [\"twitter\", \"twitter3\", \"setimes\"]:\n",
    "\t\tcur_results = predict_gpt(test, model)\n",
    "\t\tfinal_results[\"predictions\"].append(cur_results)\n",
    "\n",
    "\t# Save the results as a new json\n",
    "\twith open(\"{}.predictions.json\".format(model), \"w\") as file:\n",
    "\t\tjson.dump(final_results, file)\n"
   ]
  }
 ],
 "metadata": {
  "kernelspec": {
   "display_name": "emma_main",
   "language": "python",
   "name": "python3"
  },
  "language_info": {
   "codemirror_mode": {
    "name": "ipython",
    "version": 3
   },
   "file_extension": ".py",
   "mimetype": "text/x-python",
   "name": "python",
   "nbconvert_exporter": "python",
   "pygments_lexer": "ipython3",
   "version": "3.9.19"
  }
 },
 "nbformat": 4,
 "nbformat_minor": 2
}
